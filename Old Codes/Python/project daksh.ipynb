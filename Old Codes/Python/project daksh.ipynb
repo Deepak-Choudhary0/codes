{
 "cells": [
  {
   "cell_type": "code",
   "execution_count": 1,
   "metadata": {},
   "outputs": [
    {
     "data": {
      "text/plain": [
       "[0, 2, 4, 6]"
      ]
     },
     "execution_count": 1,
     "metadata": {},
     "output_type": "execute_result"
    }
   ],
   "source": [
    "import numpy as np\n",
    "a=np.arange(8)\n",
    "s=a.shape\n",
    "s=s[0]\n",
    "even_list=[]\n",
    "odd_list=[]\n",
    "for i in range(0,s):\n",
    "    if i%2==0:\n",
    "        even_list.append(a[i])\n",
    "    else:\n",
    "        odd_list.append(a[i])\n",
    "\n",
    "even_list\n",
    "    \n"
   ]
  },
  {
   "cell_type": "code",
   "execution_count": 2,
   "metadata": {},
   "outputs": [
    {
     "ename": "SyntaxError",
     "evalue": "unexpected EOF while parsing (<ipython-input-2-bd1ffd1d37ac>, line 16)",
     "output_type": "error",
     "traceback": [
      "\u001b[0;36m  File \u001b[0;32m\"<ipython-input-2-bd1ffd1d37ac>\"\u001b[0;36m, line \u001b[0;32m16\u001b[0m\n\u001b[0;31m    print(chack(c)\u001b[0m\n\u001b[0m                  ^\u001b[0m\n\u001b[0;31mSyntaxError\u001b[0m\u001b[0;31m:\u001b[0m unexpected EOF while parsing\n"
     ]
    }
   ],
   "source": [
    "c,d,e=['x',123],['vicky','fd','x'],[1,2,123]\n",
    "def chack(v):\n",
    "    i=0\n",
    "    while(i<len(d)):\n",
    "        if(str(c[0])==str(d[i])):\n",
    "            j=0\n",
    "\t\t\n",
    "         if(str(c[0])==str(\n",
    "\t\t\t\n",
    "\t\t\twhile(j<len(e)):\n",
    "\t\t\t\tif(str(c[1])==str(e[j])):\n",
    "\t\t\t\t\tf='True'\n",
    "\t\t\t\telse:\n",
    "\t\t\t\t\tj+=1\n",
    "            else:\n",
    "               i+=1\n",
    "    if(i==len(d) and f!='True'):\n",
    "        f='False'\n",
    "\t\t\t\n",
    "\t\n",
    "\t\t\n",
    "print(chack(c)"
   ]
  }
 ],
 "metadata": {
  "kernelspec": {
   "display_name": "Python 3",
   "language": "python",
   "name": "python3"
  },
  "language_info": {
   "codemirror_mode": {
    "name": "ipython",
    "version": 3
   },
   "file_extension": ".py",
   "mimetype": "text/x-python",
   "name": "python",
   "nbconvert_exporter": "python",
   "pygments_lexer": "ipython3",
   "version": "3.7.2"
  }
 },
 "nbformat": 4,
 "nbformat_minor": 2
}
