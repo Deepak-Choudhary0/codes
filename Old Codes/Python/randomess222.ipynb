{
 "cells": [
  {
   "cell_type": "code",
   "execution_count": 4,
   "metadata": {},
   "outputs": [
    {
     "ename": "IndentationError",
     "evalue": "unindent does not match any outer indentation level (<tokenize>, line 9)",
     "output_type": "error",
     "traceback": [
      "\u001b[0;36m  File \u001b[0;32m\"<tokenize>\"\u001b[0;36m, line \u001b[0;32m9\u001b[0m\n\u001b[0;31m    f='True'\u001b[0m\n\u001b[0m    ^\u001b[0m\n\u001b[0;31mIndentationError\u001b[0m\u001b[0;31m:\u001b[0m unindent does not match any outer indentation level\n"
     ]
    }
   ],
   "source": [
    "c,d,e=['x',123],['vicky','fd','x'],[1,2,123]\n",
    "def chack(v):\n",
    "    i=0\n",
    "    while(i<len(d)):\n",
    "        if(str(c[0])==str(d[i])):\n",
    "            j=0\n",
    "            while(j<len(e)):\n",
    "                if(str(c[1])==str(e[j])):\n",
    "                    f='True'\n",
    "                else:\n",
    "                    j+=1\n",
    "        else:\n",
    "            i+=1\n",
    "    if(i==len(d) and f!='True'):\n",
    "        f='False'\n",
    "print(chack(c))"
   ]
  },
  {
   "cell_type": "code",
   "execution_count": null,
   "metadata": {},
   "outputs": [],
   "source": []
  }
 ],
 "metadata": {
  "kernelspec": {
   "display_name": "Python 3",
   "language": "python",
   "name": "python3"
  },
  "language_info": {
   "codemirror_mode": {
    "name": "ipython",
    "version": 3
   },
   "file_extension": ".py",
   "mimetype": "text/x-python",
   "name": "python",
   "nbconvert_exporter": "python",
   "pygments_lexer": "ipython3",
   "version": "3.7.2"
  }
 },
 "nbformat": 4,
 "nbformat_minor": 2
}
