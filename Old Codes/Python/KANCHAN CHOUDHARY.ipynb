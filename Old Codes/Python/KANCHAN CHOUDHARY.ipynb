{
 "cells": [
  {
   "cell_type": "code",
   "execution_count": 5,
   "id": "657a151a",
   "metadata": {},
   "outputs": [
    {
     "name": "stdout",
     "output_type": "stream",
     "text": [
      "Enter roll no., Marks :1,67.5\n",
      "Enter roll no., Marks :2,45.6\n",
      "Enter roll no., Marks :3,78.4\n",
      "Enter roll no., Marks :4,70.5\n",
      "created dictionary\n",
      "{1: 67.5, 2: 45.6, 3: 78.4, 4: 70.5}\n"
     ]
    }
   ],
   "source": [
    "rno= []\n",
    "mks=[]\n",
    "for a in range (4):\n",
    "    r,m= eval(input(\"Enter roll no., Marks :\"))\n",
    "    rno.append(r)\n",
    "    mks.append(m)\n",
    "d= {rno[0]:mks[0],rno[1]:mks[1],rno[2]:mks[2],rno[3]:mks[3]}\n",
    "print(\"created dictionary\")\n",
    "print(d)"
   ]
  },
  {
   "cell_type": "code",
   "execution_count": 10,
   "id": "0575e02f",
   "metadata": {},
   "outputs": [
    {
     "name": "stdout",
     "output_type": "stream",
     "text": [
      "Karen teaches Sociology\n"
     ]
    }
   ],
   "source": [
    "teachers= {\"Dimple\":\"Computer Science\",\"Karen\":\"Sociology\",\"Harpreet\":\"Mathematics\",\"sabah\":\"Legal Studies\"}\n",
    "print(\"Karen teaches\",teachers[\"Karen\"])\n",
    "           "
   ]
  },
  {
   "cell_type": "code",
   "execution_count": 6,
   "id": "d23672b2",
   "metadata": {},
   "outputs": [
    {
     "ename": "TypeError",
     "evalue": "'dict' object is not callable",
     "output_type": "error",
     "traceback": [
      "\u001b[1;31m---------------------------------------------------------------------------\u001b[0m",
      "\u001b[1;31mTypeError\u001b[0m                                 Traceback (most recent call last)",
      "\u001b[1;32m<ipython-input-6-0ad6c6dd38e2>\u001b[0m in \u001b[0;36m<module>\u001b[1;34m\u001b[0m\n\u001b[0;32m      1\u001b[0m \u001b[0md\u001b[0m\u001b[1;33m=\u001b[0m \u001b[1;33m{\u001b[0m\u001b[1;34m\"Vowel1\"\u001b[0m\u001b[1;33m:\u001b[0m\u001b[1;34m\"a\"\u001b[0m\u001b[1;33m,\u001b[0m\u001b[1;34m\"Vowel2\"\u001b[0m\u001b[1;33m:\u001b[0m\u001b[1;34m\"e\"\u001b[0m\u001b[1;33m,\u001b[0m\u001b[1;34m\"Vowel3\"\u001b[0m\u001b[1;33m:\u001b[0m\u001b[1;34m\"i\"\u001b[0m\u001b[1;33m,\u001b[0m\u001b[1;34m\"Vowel4\"\u001b[0m\u001b[1;33m:\u001b[0m\u001b[1;34m\"o\"\u001b[0m\u001b[1;33m,\u001b[0m\u001b[1;34m\"Vowel5\"\u001b[0m\u001b[1;33m:\u001b[0m\u001b[1;34m\"u\"\u001b[0m\u001b[1;33m}\u001b[0m\u001b[1;33m\u001b[0m\u001b[1;33m\u001b[0m\u001b[0m\n\u001b[1;32m----> 2\u001b[1;33m \u001b[0md\u001b[0m\u001b[1;33m(\u001b[0m\u001b[1;36m3\u001b[0m\u001b[1;33m)\u001b[0m\u001b[1;33m\u001b[0m\u001b[1;33m\u001b[0m\u001b[0m\n\u001b[0m",
      "\u001b[1;31mTypeError\u001b[0m: 'dict' object is not callable"
     ]
    }
   ],
   "source": [
    "d= {\"Vowel1\":\"a\",\"Vowel2\":\"e\",\"Vowel3\":\"i\",\"Vowel4\":\"o\",\"Vowel5\":\"u\"}\n",
    "d(3)"
   ]
  },
  {
   "cell_type": "code",
   "execution_count": 4,
   "id": "52aee58d",
   "metadata": {},
   "outputs": [
    {
     "name": "stdout",
     "output_type": "stream",
     "text": [
      "seema : 123456\n",
      "shallie : 789456\n",
      "pooja fageria : 126090\n"
     ]
    }
   ],
   "source": [
    "PhoneDict= {\"seema\":123456,\"shallie\":789456,\"pooja fageria\":126090}\n",
    "for name in PhoneDict:\n",
    "    print(name,\":\",PhoneDict[name])"
   ]
  },
  {
   "cell_type": "code",
   "execution_count": 9,
   "id": "1488f8ca",
   "metadata": {},
   "outputs": [
    {
     "name": "stdout",
     "output_type": "stream",
     "text": [
      "{1: 'Pooja', 2: 'Seema', 3: 'Sunita', 4: 'sahliee'}\n"
     ]
    }
   ],
   "source": [
    "student={1:\"Pooja\",2:\"Seema\",3:\"Sunita\",4:\"sahliee\",5:\"Pushpa\"}\n",
    "student.pop(5)\n",
    "print(student)"
   ]
  },
  {
   "cell_type": "code",
   "execution_count": 20,
   "id": "a2c4a857",
   "metadata": {},
   "outputs": [
    {
     "name": "stdout",
     "output_type": "stream",
     "text": [
      "removed pair is, (13, ':', 500)\n"
     ]
    }
   ],
   "source": [
    "numbers={33:455,23:670,13:500,62:567}\n",
    "key=13\n",
    "x=numbers.pop(key,None)\n",
    "if x!=None:\n",
    "    print('removed pair is,', (key,':',x))"
   ]
  },
  {
   "cell_type": "code",
   "execution_count": null,
   "id": "0e6843bf",
   "metadata": {},
   "outputs": [],
   "source": [
    "num=int(input(\"Enter \"))"
   ]
  },
  {
   "cell_type": "code",
   "execution_count": null,
   "id": "3b8eb5aa",
   "metadata": {},
   "outputs": [],
   "source": []
  },
  {
   "cell_type": "code",
   "execution_count": 2,
   "id": "02fc0cc9",
   "metadata": {},
   "outputs": [
    {
     "name": "stdout",
     "output_type": "stream",
     "text": [
      "Element Deleted: (5, 'Pushpa')\n",
      "Element Deleted: (4, 'sahliee')\n",
      "Element Deleted: (3, 'Sunita')\n",
      "Element Deleted: (2, 'Seema')\n",
      "Element Deleted: (1, 'Pooja')\n",
      "All elements of the dictionary got deleted in LIFO order\n"
     ]
    }
   ],
   "source": [
    "student={1:\"Pooja\",2:\"Seema\",3:\"Sunita\",4:\"sahliee\",5:\"Pushpa\"}\n",
    "while len(student)>=1:\n",
    "    print(\"Element Deleted:\",student.popitem())\n",
    "print(\"All elements of the dictionary got deleted in LIFO order\")"
   ]
  },
  {
   "cell_type": "code",
   "execution_count": 5,
   "id": "dcfd30cd",
   "metadata": {},
   "outputs": [
    {
     "name": "stdout",
     "output_type": "stream",
     "text": [
      "Enter no.:8\n",
      "8 X 1 = 8\n",
      "8 X 2 = 16\n",
      "8 X 3 = 24\n",
      "8 X 4 = 32\n",
      "8 X 5 = 40\n",
      "8 X 6 = 48\n",
      "8 X 7 = 56\n",
      "8 X 8 = 64\n",
      "8 X 9 = 72\n",
      "8 X 10 = 80\n"
     ]
    }
   ],
   "source": [
    "num= int(input(\"Enter no.:\"))3Q\n",
    "for a in range(1,11):\n",
    "    print(num,\"X\",a,\"=\",num*a)"
   ]
  },
  {
   "cell_type": "code",
   "execution_count": null,
   "id": "060e97c2",
   "metadata": {},
   "outputs": [],
   "source": []
  },
  {
   "cell_type": "code",
   "execution_count": null,
   "id": "14c5293d",
   "metadata": {},
   "outputs": [],
   "source": []
  }
 ],
 "metadata": {
  "kernelspec": {
   "display_name": "Python 3",
   "language": "python",
   "name": "python3"
  },
  "language_info": {
   "codemirror_mode": {
    "name": "ipython",
    "version": 3
   },
   "file_extension": ".py",
   "mimetype": "text/x-python",
   "name": "python",
   "nbconvert_exporter": "python",
   "pygments_lexer": "ipython3",
   "version": "3.8.8"
  }
 },
 "nbformat": 4,
 "nbformat_minor": 5
}
